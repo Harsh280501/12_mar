{
 "cells": [
  {
   "cell_type": "markdown",
   "id": "240a5378-1bbe-48ce-aa57-3eb149fc899f",
   "metadata": {},
   "source": [
    "Q1. Calculate the 95% confidence interval for a sample of data with a mean of 50 and a standard deviation\n",
    "of 5 using Python. Interpret the results."
   ]
  },
  {
   "cell_type": "code",
   "execution_count": 1,
   "id": "9a95ada8-2541-4a6c-a20c-b15cee1dcc45",
   "metadata": {},
   "outputs": [
    {
     "name": "stdout",
     "output_type": "stream",
     "text": [
      "95% Confidence Interval: [49.01, 50.99]\n"
     ]
    }
   ],
   "source": [
    "import scipy.stats as stats\n",
    "\n",
    "data_mean = 50\n",
    "data_std = 5\n",
    "n = 100  # sample size\n",
    "\n",
    "# calculate standard error\n",
    "se = data_std / (n ** 0.5)\n",
    "\n",
    "# calculate t-value for 95% confidence level and n-1 degrees of freedom\n",
    "t_value = stats.t.ppf(0.975, n-1)\n",
    "\n",
    "# calculate margin of error\n",
    "margin_of_error = t_value * se\n",
    "\n",
    "# calculate lower and upper bounds of confidence interval\n",
    "lower_bound = data_mean - margin_of_error\n",
    "upper_bound = data_mean + margin_of_error\n",
    "\n",
    "# print results\n",
    "print(\"95% Confidence Interval: [{:.2f}, {:.2f}]\".format(lower_bound, upper_bound))\n"
   ]
  },
  {
   "cell_type": "code",
   "execution_count": null,
   "id": "f91d6793-c383-4488-aaca-5045957a7020",
   "metadata": {},
   "outputs": [],
   "source": []
  },
  {
   "cell_type": "markdown",
   "id": "c8d19222-ccf6-4daa-80f0-be9372b34738",
   "metadata": {},
   "source": [
    "Q2. Conduct a chi-square goodness of fit test to determine if the distribution of colors of M&Ms in a bag\n",
    "matches the expected distribution of 20% blue, 20% orange, 20% green, 10% yellow, 10% red, and 20%\n",
    "brown. Use Python to perform the test with a significance level of 0.05."
   ]
  },
  {
   "cell_type": "code",
   "execution_count": 1,
   "id": "70a6340d-577c-4197-bcc6-73970e18907d",
   "metadata": {},
   "outputs": [
    {
     "name": "stdout",
     "output_type": "stream",
     "text": [
      "Chi-square Statistic: 2.2\n",
      "p-value: 0.8208359692144962\n",
      "Fail to reject null hypothesis - The distribution of colors in the M&Ms bag matches the expected distribution.\n"
     ]
    }
   ],
   "source": [
    "import numpy as np\n",
    "from scipy.stats import chisquare\n",
    "\n",
    "observed_freq = np.array([18, 22, 16, 11, 9, 24])  # observed frequencies\n",
    "expected_freq = np.array([20, 20, 20, 10, 10, 20])  # expected frequencies\n",
    "\n",
    "# calculate chi-square statistic and p-value\n",
    "chi2_statistic, p_value = chisquare(observed_freq, expected_freq)\n",
    "\n",
    "# print results\n",
    "print(\"Chi-square Statistic:\", chi2_statistic)\n",
    "print(\"p-value:\", p_value)\n",
    "\n",
    "if p_value < 0.05:\n",
    "    print(\"Reject null hypothesis - The distribution of colors in the M&Ms bag does not match the expected distribution.\")\n",
    "else:\n",
    "    print(\"Fail to reject null hypothesis - The distribution of colors in the M&Ms bag matches the expected distribution.\")\n"
   ]
  },
  {
   "cell_type": "code",
   "execution_count": null,
   "id": "95bc5950-2892-460a-95f6-5cdb832f9243",
   "metadata": {},
   "outputs": [],
   "source": []
  },
  {
   "cell_type": "markdown",
   "id": "265854a2-2ca2-4ad5-83f2-9e46905e8d27",
   "metadata": {},
   "source": [
    "Harsh Isamalia\n",
    "Q3. Use Python to calculate the chi-square statistic and p-value for a contingency table with the following\n",
    "data:\n",
    "Outcome 1 20 15\n",
    "Outcome 2 10 25\n",
    "Outcome 3 15 20"
   ]
  },
  {
   "cell_type": "code",
   "execution_count": 2,
   "id": "5ebf3717-ea59-4f55-b0b1-2543a2e9d378",
   "metadata": {},
   "outputs": [
    {
     "name": "stdout",
     "output_type": "stream",
     "text": [
      "Chi-square Statistic: 5.833333333333334\n",
      "p-value: 0.05411376622282158\n",
      "Degrees of Freedom: 2\n",
      "Expected Frequencies:\n",
      " [[15. 20.]\n",
      " [15. 20.]\n",
      " [15. 20.]]\n"
     ]
    }
   ],
   "source": [
    "from scipy.stats import chi2_contingency\n",
    "\n",
    "observed = [[20, 15],\n",
    "            [10, 25],\n",
    "            [15, 20]]\n",
    "\n",
    "# calculate chi-square statistic, p-value, degrees of freedom, and expected frequencies\n",
    "chi2_statistic, p_value, dof, expected_freq = chi2_contingency(observed)\n",
    "\n",
    "# print results\n",
    "print(\"Chi-square Statistic:\", chi2_statistic)\n",
    "print(\"p-value:\", p_value)\n",
    "print(\"Degrees of Freedom:\", dof)\n",
    "print(\"Expected Frequencies:\\n\", expected_freq)\n"
   ]
  },
  {
   "cell_type": "code",
   "execution_count": null,
   "id": "ff04f113-8898-417c-bab5-f65119efba57",
   "metadata": {},
   "outputs": [],
   "source": []
  },
  {
   "cell_type": "markdown",
   "id": "717d2e57-c819-4e78-83d3-8951bf74a534",
   "metadata": {},
   "source": [
    "Q4. A study of the prevalence of smoking in a population of 500 individuals found that 60 individuals\n",
    "smoked. Use Python to calculate the 95% confidence interval for the true proportion of individuals in the\n",
    "population who smoke."
   ]
  },
  {
   "cell_type": "code",
   "execution_count": 4,
   "id": "3057f6b5-b07c-496c-9729-f744ea995d0b",
   "metadata": {},
   "outputs": [
    {
     "name": "stdout",
     "output_type": "stream",
     "text": [
      "95% Confidence Interval: [0.0915, 0.1485]\n"
     ]
    }
   ],
   "source": [
    "import math\n",
    "\n",
    "n = 500\n",
    "p = 60/500\n",
    "z = 1.96  # z-score for 95% confidence interval\n",
    "\n",
    "margin_of_error = z * math.sqrt(p*(1-p)/n)\n",
    "lower_bound = p - margin_of_error\n",
    "upper_bound = p + margin_of_error\n",
    "\n",
    "print(\"95% Confidence Interval: [{:.4f}, {:.4f}]\".format(lower_bound, upper_bound))\n"
   ]
  },
  {
   "cell_type": "code",
   "execution_count": null,
   "id": "80de6092-543d-49bc-8bb4-7dad75faee30",
   "metadata": {},
   "outputs": [],
   "source": []
  },
  {
   "cell_type": "markdown",
   "id": "b2ef1582-a69b-401a-9abd-84d3a30df2f5",
   "metadata": {},
   "source": [
    "Q5. Calculate the 90% confidence interval for a sample of data with a mean of 75 and a standard deviation\n",
    "of 12 using Python. Interpret the results."
   ]
  },
  {
   "cell_type": "code",
   "execution_count": 5,
   "id": "3ba47f1e-033a-4866-bd59-066f207d81cd",
   "metadata": {},
   "outputs": [
    {
     "name": "stdout",
     "output_type": "stream",
     "text": [
      "90% Confidence Interval: [73.0260, 76.9740]\n"
     ]
    }
   ],
   "source": [
    "import math\n",
    "\n",
    "n = 100\n",
    "x_bar = 75\n",
    "sigma = 12\n",
    "z = 1.645  # z-score for 90% confidence interval\n",
    "\n",
    "margin_of_error = z * (sigma/math.sqrt(n))\n",
    "lower_bound = x_bar - margin_of_error\n",
    "upper_bound = x_bar + margin_of_error\n",
    "\n",
    "print(\"90% Confidence Interval: [{:.4f}, {:.4f}]\".format(lower_bound, upper_bound))\n"
   ]
  },
  {
   "cell_type": "code",
   "execution_count": null,
   "id": "c59c9032-ba7d-4823-bfeb-1e552c9ee35b",
   "metadata": {},
   "outputs": [],
   "source": []
  },
  {
   "cell_type": "markdown",
   "id": "28eb6e2f-458e-49e4-9e07-0826ffe6856f",
   "metadata": {},
   "source": [
    "Q6. Use Python to plot the chi-square distribution with 10 degrees of freedom. Label the axes and shade the\n",
    "area corresponding to a chi-square statistic of 15."
   ]
  },
  {
   "cell_type": "code",
   "execution_count": 6,
   "id": "2566eba8-c8b1-4bb7-9f4a-8fcd771fcde4",
   "metadata": {},
   "outputs": [
    {
     "data": {
      "image/png": "[encoded data removed]",
      "text/plain": [
       "<Figure size 640x480 with 1 Axes>"
      ]
     },
     "metadata": {},
     "output_type": "display_data"
    }
   ],
   "source": [
    "import numpy as np\n",
    "import matplotlib.pyplot as plt\n",
    "from scipy.stats import chi2\n",
    "\n",
    "df = 10\n",
    "x = np.linspace(0, 25, 1000)\n",
    "y = chi2.pdf(x, df)\n",
    "plt.plot(x, y)\n",
    "plt.fill_between(x[x>=15], y[x>=15], 0, alpha=0.5)\n",
    "plt.xlabel(\"Chi-Square Statistic\")\n",
    "plt.ylabel(\"Probability Density\")\n",
    "plt.title(\"Chi-Square Distribution with {} Degrees of Freedom\".format(df))\n",
    "plt.show()\n"
   ]
  },
  {
   "cell_type": "code",
   "execution_count": null,
   "id": "2c8f7621-c5fd-470e-b95e-598f2e89648d",
   "metadata": {},
   "outputs": [],
   "source": []
  },
  {
   "cell_type": "markdown",
   "id": "7034f884-cf58-4a32-876a-d5fb2665007f",
   "metadata": {},
   "source": [
    "Q7. A random sample of 1000 people was asked if they preferred Coke or Pepsi. Of the sample, 520\n",
    "preferred Coke. Calculate a 99% confidence interval for the true proportion of people in the population who\n",
    "prefer Coke."
   ]
  },
  {
   "cell_type": "code",
   "execution_count": 7,
   "id": "cecec65b-a232-4ba2-8d5a-7d73a0070929",
   "metadata": {},
   "outputs": [
    {
     "name": "stdout",
     "output_type": "stream",
     "text": [
      "99% Confidence Interval: [0.4793, 0.5607]\n"
     ]
    }
   ],
   "source": [
    "import math\n",
    "\n",
    "n = 1000\n",
    "p_hat = 520/1000\n",
    "z = 2.576  # z-score for 99% confidence interval\n",
    "\n",
    "margin_of_error = z * math.sqrt((p_hat*(1-p_hat))/n)\n",
    "lower_bound = p_hat - margin_of_error\n",
    "upper_bound = p_hat + margin_of_error\n",
    "\n",
    "print(\"99% Confidence Interval: [{:.4f}, {:.4f}]\".format(lower_bound, upper_bound))\n"
   ]
  },
  {
   "cell_type": "code",
   "execution_count": null,
   "id": "1f318b7c-1316-4b14-8105-47c869d93a5b",
   "metadata": {},
   "outputs": [],
   "source": []
  },
  {
   "cell_type": "markdown",
   "id": "b24bea94-cd34-4c07-acf8-f2e685a98cfd",
   "metadata": {},
   "source": [
    "Q8. A researcher hypothesizes that a coin is biased towards tails. They flip the coin 100 times and observe\n",
    "45 tails. Conduct a chi-square goodness of fit test to determine if the observed frequencies match the\n",
    "expected frequencies of a fair coin. Use a significance level of 0.05."
   ]
  },
  {
   "cell_type": "code",
   "execution_count": 8,
   "id": "a5c3c5c7-6d11-4cad-8952-c5b8a4fbd931",
   "metadata": {},
   "outputs": [
    {
     "name": "stdout",
     "output_type": "stream",
     "text": [
      "Chi-square statistic: 1.0\n",
      "p-value: 0.31731050786291115\n",
      "Degrees of freedom: 1\n",
      "Fail to reject null hypothesis: The coin is not biased towards tails.\n"
     ]
    }
   ],
   "source": [
    "import scipy.stats as stats\n",
    "\n",
    "observed_freq = [45, 55]  # tails, heads\n",
    "expected_freq = [50, 50]  # fair coin\n",
    "chi2, p_value = stats.chisquare(f_obs=observed_freq, f_exp=expected_freq)\n",
    "df = len(observed_freq) - 1  # degrees of freedom\n",
    "print(\"Chi-square statistic:\", chi2)\n",
    "print(\"p-value:\", p_value)\n",
    "print(\"Degrees of freedom:\", df)\n",
    "\n",
    "if p_value < 0.05:\n",
    "    print(\"Reject null hypothesis: The coin is biased towards tails.\")\n",
    "else:\n",
    "    print(\"Fail to reject null hypothesis: The coin is not biased towards tails.\")\n"
   ]
  },
  {
   "cell_type": "code",
   "execution_count": null,
   "id": "f62ffd79-ef6e-4734-a2bd-de950d483b16",
   "metadata": {},
   "outputs": [],
   "source": []
  },
  {
   "cell_type": "markdown",
   "id": "056a9a49-4770-4f51-9166-fc9c1a40fdc0",
   "metadata": {},
   "source": [
    "Q9. A study was conducted to determine if there is an association between smoking status (smoker or\n",
    "non-smoker) and lung cancer diagnosis (yes or no). The results are shown in the contingency table below.\n",
    "Conduct a chi-square test for independence to determine if there is a significant association between\n",
    "smoking status and lung cancer diagnosis.\n",
    "\n",
    "Use a significance level of 0.05.\n",
    "Group A\n",
    "\n",
    "Outcome 1 20 15\n",
    "Outcome 2 10 25\n",
    "Outcome 3 15 20\n",
    "Group B\n",
    "\n",
    "Lung Cancer: Yes\n",
    "\n",
    "Smoker 60 140\n",
    "Non-smoker 30 170"
   ]
  },
  {
   "cell_type": "code",
   "execution_count": 9,
   "id": "ccd8555f-fd07-4400-b8f7-aa757c915f59",
   "metadata": {},
   "outputs": [
    {
     "name": "stdout",
     "output_type": "stream",
     "text": [
      "Chi-square statistic: 36.37834262834262\n",
      "Degrees of freedom: 4\n",
      "p-value: 2.4187973713603094e-07\n"
     ]
    }
   ],
   "source": [
    "from scipy.stats import chi2_contingency\n",
    "\n",
    "# Create the contingency table\n",
    "obs = [[20, 15],\n",
    "       [10, 25],\n",
    "       [15, 20]]\n",
    "\n",
    "# Add the row for lung cancer diagnosis\n",
    "obs = obs + [[60, 140], [30, 170]]\n",
    "\n",
    "# Perform the chi-square test for independence\n",
    "chi2, p, dof, expected = chi2_contingency(obs)\n",
    "\n",
    "# Print the results\n",
    "print(\"Chi-square statistic:\", chi2)\n",
    "print(\"Degrees of freedom:\", dof)\n",
    "print(\"p-value:\", p)\n"
   ]
  },
  {
   "cell_type": "code",
   "execution_count": null,
   "id": "6cbd0622-2497-44de-a973-ea8e9e640d7e",
   "metadata": {},
   "outputs": [],
   "source": []
  },
  {
   "cell_type": "markdown",
   "id": "6a98b805-ce52-4fb9-9b77-649c81ee0390",
   "metadata": {},
   "source": [
    "Q10. A study was conducted to determine if the proportion of people who prefer milk chocolate, dark\n",
    "chocolate, or white chocolate is different in the U.S. versus the U.K. A random sample of 500 people from\n",
    "the U.S. and a random sample of 500 people from the U.K. were surveyed. The results are shown in the\n",
    "contingency table below. Conduct a chi-square test for independence to determine if there is a significant\n",
    "association between chocolate preference and country of origin.\n",
    "Milk Chocolate\n",
    "\n",
    "U.S. (n=500) 200 150 150\n",
    "U.K. (n=500) 225 175 100\n",
    "\n",
    "Use a significance level of 0.01."
   ]
  },
  {
   "cell_type": "code",
   "execution_count": 10,
   "id": "88d2cc58-625c-40c6-ba25-c59aff686f84",
   "metadata": {},
   "outputs": [
    {
     "name": "stdout",
     "output_type": "stream",
     "text": [
      "There is significant association between chocolate preference and country of origin.\n"
     ]
    }
   ],
   "source": [
    "import numpy as np\n",
    "\n",
    "observed = np.array([[200, 150, 150], [225, 175, 100]])\n",
    "from scipy.stats import chi2_contingency\n",
    "\n",
    "chi2, pval, dof, expected = chi2_contingency(observed)\n",
    "alpha = 0.01\n",
    "\n",
    "if pval < alpha:\n",
    "    print(\"There is significant association between chocolate preference and country of origin.\")\n",
    "else:\n",
    "    print(\"There is no significant association between chocolate preference and country of origin.\")\n",
    "\n"
   ]
  },
  {
   "cell_type": "code",
   "execution_count": null,
   "id": "53f3e114-38b3-43b2-a62b-5a313ea62167",
   "metadata": {},
   "outputs": [],
   "source": []
  },
  {
   "cell_type": "markdown",
   "id": "745396e1-95a4-4427-a925-9f7d995cb53a",
   "metadata": {},
   "source": [
    "Q11. A random sample of 30 people was selected from a population with an unknown mean and standard\n",
    "deviation. The sample mean was found to be 72 and the sample standard deviation was found to be 10.\n",
    "Conduct a hypothesis test to determine if the population mean is significantly different from 70. Use a\n",
    "significance level of 0.05."
   ]
  },
  {
   "cell_type": "code",
   "execution_count": 11,
   "id": "33eecf2c-71bd-4447-8810-70d8287f486e",
   "metadata": {},
   "outputs": [
    {
     "name": "stdout",
     "output_type": "stream",
     "text": [
      "t-statistic: 1.0954451150103321\n",
      "p-value: 0.2823362372860698\n"
     ]
    }
   ],
   "source": [
    "import math\n",
    "from scipy.stats import t\n",
    "\n",
    "sample_mean = 72\n",
    "pop_mean = 70\n",
    "sample_size = 30\n",
    "sample_std = 10\n",
    "\n",
    "# Calculate the t-statistic\n",
    "t_stat = (sample_mean - pop_mean) / (sample_std / math.sqrt(sample_size))\n",
    "\n",
    "# Find the p-value\n",
    "p_val = 2 * (1 - t.cdf(abs(t_stat), sample_size - 1))\n",
    "\n",
    "print(\"t-statistic:\", t_stat)\n",
    "print(\"p-value:\", p_val)\n"
   ]
  },
  {
   "cell_type": "code",
   "execution_count": null,
   "id": "f918a86b-3a4e-4ead-9678-3918fe8e5cea",
   "metadata": {},
   "outputs": [],
   "source": []
  }
 ],
 "metadata": {
  "kernelspec": {
   "display_name": "Python 3 (ipykernel)",
   "language": "python",
   "name": "python3"
  },
  "language_info": {
   "codemirror_mode": {
    "name": "ipython",
    "version": 3
   },
   "file_extension": ".py",
   "mimetype": "text/x-python",
   "name": "python",
   "nbconvert_exporter": "python",
   "pygments_lexer": "ipython3",
   "version": "3.10.8"
  }
 },
 "nbformat": 4,
 "nbformat_minor": 5
}
